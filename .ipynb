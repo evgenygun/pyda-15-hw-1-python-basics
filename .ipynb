{
 "cells": [
  {
   "cell_type": "markdown",
   "metadata": {},
   "source": [
    "# Задание 1 \n",
    "Даны 2 переменных, в которых хранятся строки произвольной длины: phrase_1 и phrase_2.\n",
    "Напишите код, который проверяет какая из этих строк длиннее.\n",
    "\n",
    "Примеры работы программы:\n",
    "\n",
    "phrase_1 = 'Насколько проще было бы писать программы, если бы не заказчики’\n",
    "phrase_2 = '640Кб должно хватить для любых задач. Билл Гейтс (по легенде)'\n",
    "Результат:\n",
    "Фраза 1 длиннее фразы 2\n",
    "\n",
    "phrase_1 = '640Кб должно хватить для любых задач. Билл Гейтс (по легенде)'\n",
    "phrase_2 = 'Насколько проще было бы писать программы, если бы не заказчики’\n",
    "Результат:\n",
    "Фраза 2 длиннее фразы 1\n",
    "\n",
    "phrase_1 = 'Насколько проще было бы писать программы, если бы не заказчики’\n",
    "phrase_2 = 'Насколько проще было бы писать программы, если бы не заказчики’\n",
    "Результат:\n",
    "Фразы равной длины"
   ]
  },
  {
   "cell_type": "code",
   "execution_count": 14,
   "metadata": {},
   "outputs": [
    {
     "name": "stdout",
     "output_type": "stream",
     "text": [
      "Фраза 1 длиннее фразы 2\n"
     ]
    }
   ],
   "source": [
    "phrase_1 = 'Насколько проще было бы писать программы, если бы не заказчики'\n",
    "phrase_2 = '640Кб должно хватить для любых задач. Билл Гейтс (по легенде)'\n",
    "\n",
    "if len(phrase_1) > len(phrase_2):\n",
    "    print('Фраза 1 длиннее фразы 2')\n",
    "elif len(phrase_1) == len(phrase_2):\n",
    "    print('Фразы равной длины')\n",
    "else: print('Фраза 2 длиннее фразы 1')"
   ]
  },
  {
   "cell_type": "code",
   "execution_count": 19,
   "metadata": {},
   "outputs": [
    {
     "name": "stdout",
     "output_type": "stream",
     "text": [
      "Фраза 2 длиннее фразы 1\n"
     ]
    }
   ],
   "source": [
    "phrase_1 = '640Кб должно хватить для любых задач. Билл Гейтс (по легенде)'\n",
    "phrase_2 = 'Насколько проще было бы писать программы, если бы не заказчики'\n",
    "\n",
    "if len(phrase_1) > len(phrase_2):\n",
    "    print('Фраза 1 длиннее фразы 2')\n",
    "elif len(phrase_1) == len(phrase_2):\n",
    "    print('Фразы равной длины')\n",
    "else: print('Фраза 2 длиннее фразы 1')"
   ]
  },
  {
   "cell_type": "code",
   "execution_count": 17,
   "metadata": {},
   "outputs": [
    {
     "name": "stdout",
     "output_type": "stream",
     "text": [
      "Фразы равной длины\n"
     ]
    }
   ],
   "source": [
    "phrase_1 = 'Насколько проще было бы писать программы, если бы не заказчики'\n",
    "phrase_2 = 'Насколько проще было бы писать программы, если бы не заказчики'\n",
    "\n",
    "if len(phrase_1) > len(phrase_2):\n",
    "    print('Фраза 1 длиннее фразы 2')\n",
    "elif len(phrase_1) == len(phrase_2):\n",
    "    print('Фразы равной длины')\n",
    "else: print('Фраза 2 длиннее фразы 1')"
   ]
  },
  {
   "cell_type": "markdown",
   "metadata": {},
   "source": [
    "# Задание 2\n",
    "Дана переменная, в которой хранится четырехзначное число (год). Необходимо написать программу, которая выведет, является ли данный год високосным или обычным.\n",
    "\n",
    "Пример работы программы:\n",
    "\n",
    "year = 2020\n",
    "Результат:\n",
    "Високосный год\n",
    "\n",
    "year = 2019\n",
    "Результат:\n",
    "Обычный год"
   ]
  },
  {
   "cell_type": "code",
   "execution_count": 23,
   "metadata": {},
   "outputs": [
    {
     "name": "stdout",
     "output_type": "stream",
     "text": [
      "Високосный год\n"
     ]
    }
   ],
   "source": [
    "year = 2020\n",
    "\n",
    "if year % 4 == 0 and year % 100 != 0 or year % 400 == 0:\n",
    "    print('Високосный год')\n",
    "else:\n",
    "    print('Обычный год')"
   ]
  },
  {
   "cell_type": "markdown",
   "metadata": {},
   "source": [
    "# Задание 3\n",
    "Необходимо написать программу, которая будет запрашивать у пользователя месяц и дату рождения и выводить соответствующий знак зодиака.\n",
    "\n",
    "Пример работы программы:\n",
    "\n",
    "Введите день:\n",
    "30\n",
    "\n",
    "Введите месяц:\n",
    "Август\n",
    "Результат:\n",
    "Ваш знак зодиака: Дева\n",
    "\n",
    "Введите день:\n",
    "29\n",
    "\n",
    "Введите месяц:\n",
    "Октябрь\n",
    "Результат:\n",
    "Ваш знак зодиака: Скорпион"
   ]
  },
  {
   "cell_type": "code",
   "execution_count": 14,
   "metadata": {},
   "outputs": [
    {
     "name": "stdout",
     "output_type": "stream",
     "text": [
      "Введите день: 16\n",
      "Введите месяц: ноябрь\n",
      "Ваш знак зодиака: Скорпион\n"
     ]
    }
   ],
   "source": [
    "day = int(input('Введите день: '))\n",
    "month = input('Введите месяц: ')\n",
    "\n",
    "if day >= 21 and day <= 31 and month == 'март' or day >= 1 and day <= 19 and month == 'апрель':\n",
    "    print('Ваш знак зодиака: Овен')\n",
    "elif day >= 20 and day <= 31 and month == 'апрель' or day >= 1 and day <= 20 and month == 'май':\n",
    "    print ('Ваш знак зодиака: Телец')\n",
    "elif day >= 21 and day <= 31 and month == 'май' or day >= 1 and day <= 20 and month == 'июнь':\n",
    "    print ('Ваш знак зодиака: Близнецы')\n",
    "elif day >= 21 and day <= 31 and month == 'июнь' or day >= 1 and day <= 22 and month == 'июль':\n",
    "    print ('Ваш знак зодиака: Рак')\n",
    "elif day >= 23 and day <= 31 and month == 'июль' or day >= 1 and day <= 22 and month == 'август':\n",
    "    print ('Ваш знак зодиака: Лев')\n",
    "elif day >= 23 and day <= 31 and month == 'август' or day >= 1 and day <= 22 and month == 'сентябрь':\n",
    "    print ('Ваш знак зодиака: Дева')\n",
    "elif day >= 23 and day <= 31 and month == 'сентябрь' or day >= 1 and day <= 22 and month == 'октябрь':\n",
    "    print ('Ваш знак зодиака: Весы')\n",
    "elif day >= 23 and day <= 31 and month == 'октябрь' or day >= 1 and day <= 21 and month == 'ноябрь':\n",
    "    print ('Ваш знак зодиака: Скорпион')\n",
    "elif day >= 22 and day <= 31 and month == 'ноябрь' or day >= 1 and day <= 21 and month == 'декабрь':\n",
    "    print ('Ваш знак зодиака: Стрелец')\n",
    "elif day >= 22 and day <= 31 and month == 'декбарь' or day >= 1 and day <= 19 and month == 'январь':\n",
    "    print ('Ваш знак зодиака: Козерог')\n",
    "elif day >= 20 and day <= 31 and month == 'январь' or day >= 1 and day <= 18 and month == 'февраль':\n",
    "    print ('Ваш знак зодиака: Водолей')\n",
    "elif day >= 19 and day <= 31 and month == 'февраль' or day >= 1 and day <= 20 and month == 'март':\n",
    "    print ('Ваш знак зодиака: Рыбы')"
   ]
  },
  {
   "cell_type": "markdown",
   "metadata": {},
   "source": [
    "# Задание 4\n",
    "Вам нужно написать программу для подбора упаковок по размерам товара. Размеры хранятся в переменных (в сантиметрах):\n",
    "\n",
    "width = 10\n",
    "length = 205\n",
    "height = 5\n",
    "Используйте следующие правила:\n",
    "\n",
    "если каждое из трех измерений менее 15 сантиметров, то выведите на экран “Коробка №1”;\n",
    "если хотя бы одно из измерений больше 15 сантиметров, но менее 50 сантиметров, то выводите “Коробка №2”;\n",
    "если длина товара больше 2 метров, то выводите “Упаковка для лыж”;\n",
    "во всех остальных случаях выводите “Стандартная коробка №3”."
   ]
  },
  {
   "cell_type": "code",
   "execution_count": 18,
   "metadata": {},
   "outputs": [
    {
     "name": "stdout",
     "output_type": "stream",
     "text": [
      "Коробка №3\n"
     ]
    }
   ],
   "source": [
    "width = 55\n",
    "length = 55\n",
    "height = 45\n",
    "\n",
    "if width < 15 and length < 15 and height < 15 :\n",
    "    print('Коробка №1')\n",
    "elif ( width >= 15 and width <= 50 and length < 15 and height < 15 ) or (\n",
    "    width < 15 and length >= 15 and length <= 50 and height < 15 ) or (\n",
    "    width < 15 and length < 15 and height >= 15 and height <= 50):\n",
    "    print('Коробка №2')\n",
    "elif length > 200:\n",
    "    print('Упаковка для лыж')\n",
    "else:\n",
    "    print('Коробка №3')"
   ]
  },
  {
   "cell_type": "markdown",
   "metadata": {},
   "source": [
    "# Задание 5 (необязательное)\n",
    "Дана переменная, в которой хранится шестизначное число (номер проездного билета). Напишите программу, которая будет определять, является ли данный билет “счастливым”. Билет считается счастливым, если сумма первых трех цифр совпадает с суммой последних трех цифр номера.\n",
    "\n",
    "Примеры работы программы:\n",
    "\n",
    "number = 123456\n",
    "Результат:\n",
    "Неасчастливый билет\n",
    "\n",
    "number = 123321\n",
    "Результат:\n",
    "Счастливый билет"
   ]
  },
  {
   "cell_type": "code",
   "execution_count": 37,
   "metadata": {},
   "outputs": [
    {
     "name": "stdout",
     "output_type": "stream",
     "text": [
      "Счатливый билет\n"
     ]
    }
   ],
   "source": [
    "number = 186681\n",
    "\n",
    "First_digits = number // 1000\n",
    "Last_digits = number % 1000\n",
    "\n",
    "sum_of_first_digits = (First_digits // 100) + (First_digits // 10 % 10) + (First_digits % 10)\n",
    "sum_of_last_digits = (Last_digits // 100) + (Last_digits // 10 % 10) + (Last_digits % 10)\n",
    "\n",
    "if sum_of_first_digits == sum_of_last_digits :\n",
    "    print('Счаcтливый билет')\n",
    "else :\n",
    "    print('Несчатливый билет')"
   ]
  },
  {
   "cell_type": "markdown",
   "metadata": {},
   "source": [
    "# Задание 6 (необязательное)\n",
    "Напишите программу, которая сможет вычислять площади трех фигур (круг, треугольник и прямоугольник). Тип фигуры запрашиваем через пользовательский ввод, после чего делаем запрос характеристик фигуры:\n",
    "\n",
    "если пользователь выбрал круг, запрашиваем его радиус,\n",
    "если треугольник – длины трех его сторон;\n",
    "если прямоугольник – длины двух его сторон."
   ]
  },
  {
   "cell_type": "code",
   "execution_count": null,
   "metadata": {},
   "outputs": [],
   "source": [
    "from math import sqrt\n",
    "\n",
    "figure = input('Введите тип фигуры: ')\n",
    "\n",
    "if figure == 'круг':\n",
    "    radius = float(input('Введите радиус круга: '))\n",
    "    s = 3.14*radius*radius\n",
    "    print('Площадь круга:', s)\n",
    "    \n",
    "elif figure == 'треугольник':\n",
    "    A = float(input('Введите длину стороны A: '))\n",
    "    B = float(input('Введите длину стороны B: '))\n",
    "    C = float(input('Введите длину стороны C: '))\n",
    "    p = (A+B+C)/2\n",
    "    s = sqrt(p*(p-A)*(p-B)*(p-C))\n",
    "    print('Площадь тругольника:', s)\n",
    "    \n",
    "elif figure == 'прямоугольник':\n",
    "    A = float(input('Введите длину стороны A: '))\n",
    "    B = float(input('Введите длину стороны B: '))\n",
    "    s = A*B\n",
    "    print('Площадь тругольника:', s)\n",
    "\n",
    "else :\n",
    "    print('Расчёт площади введённой фигуры не поддерживается')"
   ]
  },
  {
   "cell_type": "code",
   "execution_count": null,
   "metadata": {},
   "outputs": [],
   "source": []
  }
 ],
 "metadata": {
  "kernelspec": {
   "display_name": "Python 3",
   "language": "python",
   "name": "python3"
  },
  "language_info": {
   "codemirror_mode": {
    "name": "ipython",
    "version": 3
   },
   "file_extension": ".py",
   "mimetype": "text/x-python",
   "name": "python",
   "nbconvert_exporter": "python",
   "pygments_lexer": "ipython3",
   "version": "3.8.3"
  },
  "widgets": {
   "application/vnd.jupyter.widget-state+json": {
    "state": {},
    "version_major": 2,
    "version_minor": 0
   }
  }
 },
 "nbformat": 4,
 "nbformat_minor": 4
}
